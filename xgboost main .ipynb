{
 "cells": [
  {
   "cell_type": "code",
   "execution_count": null,
   "id": "b1dffc9b-ff27-42a9-9dad-373d0aaa0ad8",
   "metadata": {},
   "outputs": [],
   "source": [
    "import pandas as pd\n",
    "import numpy as np\n",
    "df = pd.read_csv('data1.csv')\n",
    "df.shape\n",
    "df.head(144)"
   ]
  },
  {
   "cell_type": "code",
   "execution_count": null,
   "id": "fdc80d8c-ae9d-4b63-9194-0f2d0b27036f",
   "metadata": {},
   "outputs": [],
   "source": [
    "import matplotlib.pyplot as plt\n",
    "import seaborn as sns\n",
    "df.describe()\n",
    "correlation = df.corr()\n",
    "plt.figure(figsize=(10,10))\n",
    "sns.heatmap(correlation, cbar=True, square=True, fmt='.1f', annot=True, annot_kws={'size':8}, cmap='Reds')"
   ]
  },
  {
   "cell_type": "code",
   "execution_count": null,
   "id": "1c56b4d2-a957-462f-9b26-32714838154d",
   "metadata": {},
   "outputs": [],
   "source": [
    "df.describe()"
   ]
  },
  {
   "cell_type": "code",
   "execution_count": null,
   "id": "a982c798-2305-4232-9fc9-12c42ee738d9",
   "metadata": {},
   "outputs": [],
   "source": [
    "X = df.drop(\"J-funtion\", axis=1)\n",
    "y = df[\"J-funtion\"]\n"
   ]
  },
  {
   "cell_type": "code",
   "execution_count": null,
   "id": "181b658e-7317-441f-8f5e-67cbc7fc727a",
   "metadata": {},
   "outputs": [],
   "source": [
    "from sklearn.preprocessing import StandardScaler, MinMaxScaler\n",
    "scaler = StandardScaler()\n",
    "X_scaled = scaler.fit_transform(X)\n"
   ]
  },
  {
   "cell_type": "code",
   "execution_count": null,
   "id": "1f841533-187e-4fa6-ae17-c18ea735b808",
   "metadata": {},
   "outputs": [],
   "source": [
    "from sklearn.model_selection import train_test_split\n",
    "\n",
    "X_train, X_test, y_train, y_test = train_test_split(X, y, test_size = 0.3, random_state = 2015)"
   ]
  },
  {
   "cell_type": "code",
   "execution_count": null,
   "id": "75e10972-7c69-4093-a5c8-16d8a713a44b",
   "metadata": {},
   "outputs": [],
   "source": [
    "from xgboost import XGBRegressor\n",
    "my_model = XGBRegressor()"
   ]
  },
  {
   "cell_type": "code",
   "execution_count": null,
   "id": "e7e889da-f05e-4bcd-8bda-9f6a04fa1854",
   "metadata": {},
   "outputs": [],
   "source": [
    "my_model = XGBRegressor(n_estimators=32, learning_rate=0.6)\n",
    "my_model.fit(X_train, y_train, early_stopping_rounds=28, \n",
    "             eval_set=[(X_test, y_test)], verbose=False)"
   ]
  },
  {
   "cell_type": "code",
   "execution_count": null,
   "id": "a67b3be6-bf07-4e52-bf86-1b3456ddd084",
   "metadata": {},
   "outputs": [],
   "source": [
    "# make predictions\n",
    "xgb_train_pred = my_model.predict(X_train)\n",
    "Xgb = my_model.predict(X_test)\n"
   ]
  },
  {
   "cell_type": "code",
   "execution_count": null,
   "id": "c289870b-ef24-4c0e-aef1-d325a5aca83d",
   "metadata": {},
   "outputs": [],
   "source": [
    "from sklearn.metrics import mean_squared_error,r2_score,mean_squared_log_error\n",
    "from sklearn.metrics import mean_squared_error,mean_absolute_error,r2_score\n",
    "xgb_mse_train=mean_squared_error(y_train, xgb_train_pred, squared=False)\n",
    "Xgb_mse = mean_squared_error(y_test, Xgb)\n",
    "xgb_mae_train=mean_squared_error(y_train, xgb_train_pred, squared=False)\n",
    "Xgb_mae = mean_absolute_error(y_test,Xgb )\n",
    "xgb_rmse_train=mean_squared_error(y_train, xgb_train_pred, squared=False)**0.5\n",
    "Xgb_rmse = mean_squared_error(y_test,Xgb)**0.5\n",
    "Xgb_r2 = r2_score(y_test,Xgb "
   ]
  },
  {
   "cell_type": "code",
   "execution_count": null,
   "id": "03e33443-14d8-4c4b-a4d2-6993c12044ff",
   "metadata": {},
   "outputs": [],
   "source": [
    "print('')\n",
    "print('MSE test   : %0.2f ' % Xgb_mse )\n",
    "print('MAE test   : %0.2f ' % Xgb_mae)\n",
    "print('RMSE test  : %0.2f ' % Xgb_rmse)\n",
    "print('R2     : %0.2f ' % Xgb_r2)\n",
    "print('MSE trin   : %0.2f ' %  xgb_mse_train)\n",
    "print('MAE train   : %0.2f ' % xgb_mae_train)\n",
    "print('RMSE tarin  : %0.2f ' % xgb_rmse_train)\n",
    "print(\"Model Xgb R in train data: \", my_model.score(X_train, y_train))\n",
    "print(\"Model Xgb R in test data: \", my_model.score(X_test, y_test))\n"
   ]
  },
  {
   "cell_type": "code",
   "execution_count": null,
   "id": "82b8001d-7161-4595-83a5-451e770465ac",
   "metadata": {},
   "outputs": [],
   "source": [
    "plt.scatter(y_test, Xgb)\n",
    "plt.xlabel(\"Actual J-funtion\")\n",
    "plt.ylabel(\"prediion J-funtion\")\n",
    "plt.title(\"XG J-funtion predictions\")\n",
    "plt.show()\n",
    "print(Xgb)"
   ]
  },
  {
   "cell_type": "code",
   "execution_count": null,
   "id": "6463468c-65f8-4e2b-9944-80529a85fae3",
   "metadata": {},
   "outputs": [],
   "source": []
  },
  {
   "cell_type": "code",
   "execution_count": null,
   "id": "58159940-8516-43b8-94bb-6b5b413f83d2",
   "metadata": {},
   "outputs": [],
   "source": []
  }
 ],
 "metadata": {
  "kernelspec": {
   "display_name": "Python 3 (ipykernel)",
   "language": "python",
   "name": "python3"
  },
  "language_info": {
   "codemirror_mode": {
    "name": "ipython",
    "version": 3
   },
   "file_extension": ".py",
   "mimetype": "text/x-python",
   "name": "python",
   "nbconvert_exporter": "python",
   "pygments_lexer": "ipython3",
   "version": "3.11.7"
  }
 },
 "nbformat": 4,
 "nbformat_minor": 5
}
